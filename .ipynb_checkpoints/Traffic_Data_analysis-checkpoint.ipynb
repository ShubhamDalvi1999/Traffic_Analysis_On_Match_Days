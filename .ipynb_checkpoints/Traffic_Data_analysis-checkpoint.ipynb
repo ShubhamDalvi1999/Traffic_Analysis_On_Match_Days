{
 "cells": [
  {
   "cell_type": "code",
   "execution_count": 1,
   "id": "816ab4d0-58d1-4892-8ace-f054e8b1ecfd",
   "metadata": {},
   "outputs": [],
   "source": [
    "import findspark\n",
    "findspark.init()"
   ]
  },
  {
   "cell_type": "code",
   "execution_count": 2,
   "id": "f0301e81-8648-4a31-ae57-848225cdd605",
   "metadata": {},
   "outputs": [],
   "source": [
    "from pyspark import SparkConf,SparkContext\n",
    "\n",
    "config= SparkConf().setAppName(\"Traffic_Data_Analysis\").setMaster(\"local[*]\")\n",
    "\n",
    "sc= SparkContext(conf=config)\n",
    "\n"
   ]
  },
  {
   "cell_type": "code",
   "execution_count": null,
   "id": "70310476-a7da-49d2-beef-b6863a40878a",
   "metadata": {},
   "outputs": [],
   "source": [
    "data =sc.tex"
   ]
  },
  {
   "cell_type": "code",
   "execution_count": 4,
   "id": "f5aca517-90bf-4488-9910-bf80d49509e1",
   "metadata": {},
   "outputs": [],
   "source": [
    "import pandas as pd\n",
    "\n",
    "df1 = pd.DataFrame({'A': [1, 2, 3], 'B': [4, 5, 6]})\n",
    "df2 = pd.DataFrame({'C': [7, 8, 9], 'D': [10, 11, 12]})\n",
    "\n",
    "merged_df = df1.merge(df2, left_index=True, right_index=True)\n",
    "\n"
   ]
  },
  {
   "cell_type": "code",
   "execution_count": 5,
   "id": "49f94427-c69d-48cd-be22-0d451daeea3e",
   "metadata": {},
   "outputs": [
    {
     "data": {
      "text/html": [
       "<div>\n",
       "<style scoped>\n",
       "    .dataframe tbody tr th:only-of-type {\n",
       "        vertical-align: middle;\n",
       "    }\n",
       "\n",
       "    .dataframe tbody tr th {\n",
       "        vertical-align: top;\n",
       "    }\n",
       "\n",
       "    .dataframe thead th {\n",
       "        text-align: right;\n",
       "    }\n",
       "</style>\n",
       "<table border=\"1\" class=\"dataframe\">\n",
       "  <thead>\n",
       "    <tr style=\"text-align: right;\">\n",
       "      <th></th>\n",
       "      <th>A</th>\n",
       "      <th>B</th>\n",
       "      <th>C</th>\n",
       "      <th>D</th>\n",
       "    </tr>\n",
       "  </thead>\n",
       "  <tbody>\n",
       "    <tr>\n",
       "      <th>0</th>\n",
       "      <td>1</td>\n",
       "      <td>4</td>\n",
       "      <td>7</td>\n",
       "      <td>10</td>\n",
       "    </tr>\n",
       "    <tr>\n",
       "      <th>1</th>\n",
       "      <td>2</td>\n",
       "      <td>5</td>\n",
       "      <td>8</td>\n",
       "      <td>11</td>\n",
       "    </tr>\n",
       "    <tr>\n",
       "      <th>2</th>\n",
       "      <td>3</td>\n",
       "      <td>6</td>\n",
       "      <td>9</td>\n",
       "      <td>12</td>\n",
       "    </tr>\n",
       "  </tbody>\n",
       "</table>\n",
       "</div>"
      ],
      "text/plain": [
       "   A  B  C   D\n",
       "0  1  4  7  10\n",
       "1  2  5  8  11\n",
       "2  3  6  9  12"
      ]
     },
     "execution_count": 5,
     "metadata": {},
     "output_type": "execute_result"
    }
   ],
   "source": [
    "merged_df"
   ]
  },
  {
   "cell_type": "code",
   "execution_count": 8,
   "id": "269ee210-8a7b-44eb-959b-8e70f2db0393",
   "metadata": {},
   "outputs": [],
   "source": [
    "from pyspark.sql.functions import monotonically_increasing_id\n",
    "from pyspark.sql import SparkSession\n",
    "\n",
    "spark = SparkSession.builder.appName('example').getOrCreate()\n",
    "\n",
    "df1 = spark.createDataFrame([(1, 4), (2, 5), (3, 6)], ['A', 'B'])\n",
    "df2 = spark.createDataFrame([(7, 10), (8, 11), (9, 12)], ['C', 'D'])\n",
    "\n",
    "df1 = df1.withColumn('idx', monotonically_increasing_id())\n",
    "df2 = df2.withColumn('idx', monotonically_increasing_id())\n",
    "\n",
    "merged_df = df1.join(df2, on='idx').drop('idx')\n"
   ]
  },
  {
   "cell_type": "code",
   "execution_count": 10,
   "id": "1598a9bd-940b-4f23-bd0d-aa1b57185195",
   "metadata": {},
   "outputs": [
    {
     "name": "stdout",
     "output_type": "stream",
     "text": [
      "+---+---+---+---+\n",
      "|  A|  B|  C|  D|\n",
      "+---+---+---+---+\n",
      "|  1|  4|  7| 10|\n",
      "|  2|  5|  8| 11|\n",
      "|  3|  6|  9| 12|\n",
      "+---+---+---+---+\n",
      "\n"
     ]
    }
   ],
   "source": [
    "merged_df.show()"
   ]
  },
  {
   "cell_type": "code",
   "execution_count": 12,
   "id": "de592daf-3896-4f4a-ac19-5e4daee7a7aa",
   "metadata": {},
   "outputs": [
    {
     "name": "stdout",
     "output_type": "stream",
     "text": [
      "+-------------+------------+\n",
      "|employee_name|manager_name|\n",
      "+-------------+------------+\n",
      "|        Alice|        null|\n",
      "|          Bob|       Alice|\n",
      "|      Charlie|         Bob|\n",
      "|         Dave|         Bob|\n",
      "|          Eve|       Alice|\n",
      "+-------------+------------+\n",
      "\n"
     ]
    }
   ],
   "source": [
    "from pyspark.sql.functions import col\n",
    "\n",
    "# Create employees dataframe\n",
    "employees = spark.createDataFrame([(1, 'Alice', None),\n",
    "                                   (2, 'Bob', 1),\n",
    "                                   (3, 'Charlie', 2),\n",
    "                                   (4, 'Dave', 2),\n",
    "                                   (5, 'Eve', 1)], \n",
    "                                  ['employee_id', 'name', 'manager_id'])\n",
    "\n",
    "# Self join employees dataframe to get name of manager for each employee\n",
    "joined_df = employees.alias('e1').join(employees.alias('e2'),col('e1.manager_id') == col('e2.employee_id'),'left').select(col('e1.name').alias('employee_name'),col('e2.name').alias('manager_name')).orderBy('employee_name')\n",
    "\n",
    "# Show the joined dataframe\n",
    "joined_df.show()\n"
   ]
  },
  {
   "cell_type": "code",
   "execution_count": null,
   "id": "2c2dbc0b-0e1f-4453-ad8d-ec164b4296a9",
   "metadata": {},
   "outputs": [],
   "source": []
  }
 ],
 "metadata": {
  "kernelspec": {
   "display_name": "Python 3 (ipykernel)",
   "language": "python",
   "name": "python3"
  },
  "language_info": {
   "codemirror_mode": {
    "name": "ipython",
    "version": 3
   },
   "file_extension": ".py",
   "mimetype": "text/x-python",
   "name": "python",
   "nbconvert_exporter": "python",
   "pygments_lexer": "ipython3",
   "version": "3.10.9"
  }
 },
 "nbformat": 4,
 "nbformat_minor": 5
}
